{
 "cells": [
  {
   "cell_type": "code",
   "execution_count": 1,
   "metadata": {},
   "outputs": [],
   "source": [
    "import importlib\n",
    "import utils\n",
    "importlib.reload(utils)\n",
    "from utils import *\n",
    "from os import listdir\n",
    "from os.path import join,basename"
   ]
  },
  {
   "cell_type": "code",
   "execution_count": 57,
   "metadata": {},
   "outputs": [
    {
     "name": "stdout",
     "output_type": "stream",
     "text": [
      "[[0 1 2]\n",
      " [3 4 5]]\n"
     ]
    },
    {
     "data": {
      "text/plain": [
       "array([[3, 4, 5],\n",
       "       [6, 7, 8]])"
      ]
     },
     "execution_count": 57,
     "metadata": {},
     "output_type": "execute_result"
    }
   ],
   "source": [
    "x = np.arange(6).reshape(2,3)\n",
    "print(x)\n",
    "x_prime = np.arange(3,9).reshape(2,3)\n",
    "x_prime"
   ]
  },
  {
   "cell_type": "code",
   "execution_count": 58,
   "metadata": {},
   "outputs": [
    {
     "data": {
      "text/plain": [
       "array([[0, 2],\n",
       "       [1, 0],\n",
       "       [1, 1],\n",
       "       [1, 2]], dtype=int64)"
      ]
     },
     "execution_count": 58,
     "metadata": {},
     "output_type": "execute_result"
    }
   ],
   "source": [
    "np.argwhere(x>1)"
   ]
  },
  {
   "cell_type": "code",
   "execution_count": 59,
   "metadata": {},
   "outputs": [
    {
     "data": {
      "text/plain": [
       "array([0, 3, 1, 4, 2, 5])"
      ]
     },
     "execution_count": 59,
     "metadata": {},
     "output_type": "execute_result"
    }
   ],
   "source": [
    "x_flatten = x.flatten('F')\n",
    "x_flatten"
   ]
  },
  {
   "cell_type": "code",
   "execution_count": 60,
   "metadata": {},
   "outputs": [
    {
     "data": {
      "text/plain": [
       "array([3, 6, 4, 7, 5, 8])"
      ]
     },
     "execution_count": 60,
     "metadata": {},
     "output_type": "execute_result"
    }
   ],
   "source": [
    "x_prime_flatten = x_prime.flatten('F')\n",
    "x_prime_flatten"
   ]
  },
  {
   "cell_type": "code",
   "execution_count": 61,
   "metadata": {},
   "outputs": [
    {
     "data": {
      "text/plain": [
       "array([0, 1, 2, 3, 5], dtype=int64)"
      ]
     },
     "execution_count": 61,
     "metadata": {},
     "output_type": "execute_result"
    }
   ],
   "source": [
    "x_flattened_arg = np.argwhere((x_flatten>2) | (x_prime_flatten<5))\n",
    "x_flattened_arg.T[0]"
   ]
  },
  {
   "cell_type": "code",
   "execution_count": 62,
   "metadata": {},
   "outputs": [
    {
     "name": "stdout",
     "output_type": "stream",
     "text": [
      "[[0 1 2]\n",
      " [3 4 5]]\n",
      "[[3 4 5]\n",
      " [6 7 8]]\n"
     ]
    }
   ],
   "source": [
    "print(x)\n",
    "print(x_prime)"
   ]
  },
  {
   "cell_type": "code",
   "execution_count": 63,
   "metadata": {},
   "outputs": [
    {
     "data": {
      "text/plain": [
       "(array([[0],\n",
       "        [1],\n",
       "        [0],\n",
       "        [1],\n",
       "        [1]], dtype=int64),\n",
       " array([[0],\n",
       "        [0],\n",
       "        [1],\n",
       "        [1],\n",
       "        [2]], dtype=int64))"
      ]
     },
     "execution_count": 63,
     "metadata": {},
     "output_type": "execute_result"
    }
   ],
   "source": [
    "x_arg = np.unravel_index(x_flattened_arg,(2,3),order='F')\n",
    "x_arg"
   ]
  },
  {
   "cell_type": "code",
   "execution_count": 65,
   "metadata": {},
   "outputs": [
    {
     "data": {
      "text/plain": [
       "array([[3],\n",
       "       [6],\n",
       "       [4],\n",
       "       [7],\n",
       "       [8]])"
      ]
     },
     "execution_count": 65,
     "metadata": {},
     "output_type": "execute_result"
    }
   ],
   "source": [
    "x_prime[x_arg]"
   ]
  },
  {
   "cell_type": "code",
   "execution_count": 30,
   "metadata": {},
   "outputs": [],
   "source": [
    "kSize=6 #-3 to 3, \n",
    "stepSize = (1+1/kSize)"
   ]
  },
  {
   "cell_type": "code",
   "execution_count": 31,
   "metadata": {},
   "outputs": [
    {
     "data": {
      "text/plain": [
       "array([-3.        , -1.83333333, -0.66666667,  0.5       ,  1.66666667,\n",
       "        2.83333333,  4.        ])"
      ]
     },
     "execution_count": 31,
     "metadata": {},
     "output_type": "execute_result"
    }
   ],
   "source": [
    "np.arange(-(kSize/2),kSize/2+stepSize,stepSize)"
   ]
  },
  {
   "cell_type": "code",
   "execution_count": 33,
   "metadata": {},
   "outputs": [
    {
     "data": {
      "text/plain": [
       "array([-3. , -1.8, -0.6,  0.6,  1.8,  3. ])"
      ]
     },
     "execution_count": 33,
     "metadata": {},
     "output_type": "execute_result"
    }
   ],
   "source": [
    "np.linspace(-(kSize/2),kSize/2,6,endpoint=True)"
   ]
  },
  {
   "cell_type": "code",
   "execution_count": 34,
   "metadata": {},
   "outputs": [
    {
     "data": {
      "text/plain": [
       "1.1666666666666667"
      ]
     },
     "execution_count": 34,
     "metadata": {},
     "output_type": "execute_result"
    }
   ],
   "source": [
    "1+1/kSize"
   ]
  },
  {
   "cell_type": "code",
   "execution_count": 8,
   "metadata": {},
   "outputs": [
    {
     "data": {
      "text/plain": [
       "array([[0, 1, 2],\n",
       "       [3, 4, 5],\n",
       "       [6, 7, 8]])"
      ]
     },
     "execution_count": 8,
     "metadata": {},
     "output_type": "execute_result"
    }
   ],
   "source": [
    "A = np.arange(9).reshape(3,3)\n",
    "A"
   ]
  },
  {
   "cell_type": "code",
   "execution_count": 9,
   "metadata": {},
   "outputs": [
    {
     "data": {
      "text/plain": [
       "array([[8, 6, 7, 8, 6],\n",
       "       [2, 0, 1, 2, 0],\n",
       "       [5, 3, 4, 5, 3],\n",
       "       [8, 6, 7, 8, 6],\n",
       "       [2, 0, 1, 2, 0]])"
      ]
     },
     "execution_count": 9,
     "metadata": {},
     "output_type": "execute_result"
    }
   ],
   "source": [
    "A1 = np.row_stack((A[-1,:],A,A[0,:]))\n",
    "A = np.column_stack((A1[:,-1],A1,A1[:,0]))\n",
    "A"
   ]
  },
  {
   "cell_type": "code",
   "execution_count": 2,
   "metadata": {},
   "outputs": [
    {
     "data": {
      "text/plain": [
       "array([[17, 24,  1,  8, 15],\n",
       "       [23,  5,  7, 14, 16],\n",
       "       [ 4,  6, 13, 20, 22],\n",
       "       [10, 12, 19, 21,  3],\n",
       "       [11, 18, 25,  2,  9]])"
      ]
     },
     "execution_count": 2,
     "metadata": {},
     "output_type": "execute_result"
    }
   ],
   "source": [
    "A = np.array([[17 ,   24  ,   1   ,  8  ,  15],\n",
    "    [23  ,   5   ,  7   , 14  ,  16],\n",
    "    [4   ,  6   , 13   , 20 ,   22],\n",
    "    [10 ,   12   , 19  ,  21  ,   3],\n",
    "    [11  ,  18   , 25  ,   2  ,   9]])\n",
    "\n",
    "A"
   ]
  },
  {
   "cell_type": "code",
   "execution_count": 27,
   "metadata": {},
   "outputs": [],
   "source": [
    "h = np.array([[-1,0,1]])"
   ]
  },
  {
   "cell_type": "code",
   "execution_count": 22,
   "metadata": {},
   "outputs": [
    {
     "data": {
      "text/plain": [
       "array([[ 24, -16, -16,  14,  -8],\n",
       "       [  5, -16,   9,   9, -14],\n",
       "       [  6,   9,  14,   9, -20],\n",
       "       [ 12,   9,   9, -16, -21],\n",
       "       [ 18,  14, -16, -16,  -2]])"
      ]
     },
     "execution_count": 22,
     "metadata": {},
     "output_type": "execute_result"
    }
   ],
   "source": [
    "scipy.ndimage.correlate(A, h,mode='constant') #same as imfilter(A,h,'corr')"
   ]
  },
  {
   "cell_type": "code",
   "execution_count": 32,
   "metadata": {},
   "outputs": [
    {
     "data": {
      "text/plain": [
       "array([[  7, -16, -16,  14,   7],\n",
       "       [-18, -16,   9,   9,   2],\n",
       "       [  2,   9,  14,   9,   2],\n",
       "       [  2,   9,   9, -16, -18],\n",
       "       [  7,  14, -16, -16,   7]])"
      ]
     },
     "execution_count": 32,
     "metadata": {},
     "output_type": "execute_result"
    }
   ],
   "source": [
    "scipy.ndimage.correlate(A, h,mode='reflect') #same as imfilter(A,h,'corr', 'symmetric' or 'replicate', 'same')"
   ]
  },
  {
   "cell_type": "code",
   "execution_count": 31,
   "metadata": {},
   "outputs": [
    {
     "data": {
      "text/plain": [
       "array([[-24,  16,  16, -14,   8],\n",
       "       [ -5,  16,  -9,  -9,  14],\n",
       "       [ -6,  -9, -14,  -9,  20],\n",
       "       [-12,  -9,  -9,  16,  21],\n",
       "       [-18, -14,  16,  16,   2]])"
      ]
     },
     "execution_count": 31,
     "metadata": {},
     "output_type": "execute_result"
    }
   ],
   "source": [
    "scipy.signal.convolve2d(A,h,mode='same') #same as conv2('same')"
   ]
  },
  {
   "cell_type": "code",
   "execution_count": 36,
   "metadata": {},
   "outputs": [
    {
     "data": {
      "text/plain": [
       "array([[13, 20, 22,  4,  6, 13, 20, 22,  4,  6, 13],\n",
       "       [19, 21,  3, 10, 12, 19, 21,  3, 10, 12, 19],\n",
       "       [25,  2,  9, 11, 18, 25,  2,  9, 11, 18, 25],\n",
       "       [ 1,  8, 15, 17, 24,  1,  8, 15, 17, 24,  1],\n",
       "       [ 7, 14, 16, 23,  5,  7, 14, 16, 23,  5,  7],\n",
       "       [13, 20, 22,  4,  6, 13, 20, 22,  4,  6, 13],\n",
       "       [19, 21,  3, 10, 12, 19, 21,  3, 10, 12, 19],\n",
       "       [25,  2,  9, 11, 18, 25,  2,  9, 11, 18, 25],\n",
       "       [ 1,  8, 15, 17, 24,  1,  8, 15, 17, 24,  1],\n",
       "       [ 7, 14, 16, 23,  5,  7, 14, 16, 23,  5,  7],\n",
       "       [13, 20, 22,  4,  6, 13, 20, 22,  4,  6, 13]])"
      ]
     },
     "execution_count": 36,
     "metadata": {},
     "output_type": "execute_result"
    }
   ],
   "source": [
    "bounMargin = 3\n",
    "A_temp = np.row_stack([A[-1-bounMargin+1:,:],A,A[:bounMargin,:]])\n",
    "A_period = np.column_stack([A_temp[:,-1-bounMargin+1:],A_temp,A_temp[:,:bounMargin]])\n",
    "A_period\n",
    "# im1_temp = [im1(end-bounMargin+1:end,:);im1;im1(1:bounMargin,:)];\n",
    "# im1_period = [im1_temp(:,end-bounMargin+1:end),im1_temp,im1_temp(:,1:bounMargin)];"
   ]
  },
  {
   "cell_type": "code",
   "execution_count": 37,
   "metadata": {},
   "outputs": [
    {
     "data": {
      "text/plain": [
       "array([[17, 24,  1,  8, 15],\n",
       "       [23,  5,  7, 14, 16],\n",
       "       [ 4,  6, 13, 20, 22],\n",
       "       [10, 12, 19, 21,  3],\n",
       "       [11, 18, 25,  2,  9]])"
      ]
     },
     "execution_count": 37,
     "metadata": {},
     "output_type": "execute_result"
    }
   ],
   "source": [
    "A_period[bounMargin:-bounMargin,bounMargin:-bounMargin]\n",
    "# fx = fx(bounMargin+1:end-bounMargin, bounMargin+1:end-bounMargin);\n",
    "# fy = fy(bounMargin+1:end-bounMargin, bounMargin+1:end-bounMargin);"
   ]
  },
  {
   "cell_type": "code",
   "execution_count": 45,
   "metadata": {},
   "outputs": [
    {
     "data": {
      "text/plain": [
       "5"
      ]
     },
     "execution_count": 45,
     "metadata": {},
     "output_type": "execute_result"
    }
   ],
   "source": [
    "nrow, ncol = A.shape\n"
   ]
  },
  {
   "cell_type": "code",
   "execution_count": 47,
   "metadata": {},
   "outputs": [
    {
     "data": {
      "text/plain": [
       "array([[ 5,  7, 14],\n",
       "       [ 6, 13, 20],\n",
       "       [12, 19, 21]])"
      ]
     },
     "execution_count": 47,
     "metadata": {},
     "output_type": "execute_result"
    }
   ],
   "source": [
    "bord = 1\n",
    "A[bord:nrow-bord,bord:ncol-bord]"
   ]
  },
  {
   "cell_type": "code",
   "execution_count": 67,
   "metadata": {},
   "outputs": [
    {
     "data": {
      "text/plain": [
       "(3, 3, 2)"
      ]
     },
     "execution_count": 67,
     "metadata": {},
     "output_type": "execute_result"
    }
   ],
   "source": [
    "im1 = np.zeros((3,3))\n",
    "uInitial = np.zeros(im1.shape)\n",
    "vInitial = np.zeros(im1.shape)\n",
    "uvInitial = np.stack([uInitial,vInitial],axis=2)\n",
    "uvInitial.shape"
   ]
  },
  {
   "cell_type": "code",
   "execution_count": 70,
   "metadata": {},
   "outputs": [
    {
     "data": {
      "text/plain": [
       "2"
      ]
     },
     "execution_count": 70,
     "metadata": {},
     "output_type": "execute_result"
    }
   ],
   "source": [
    "im1 = np.zeros((3,3))\n",
    "len(im1.shape)"
   ]
  },
  {
   "cell_type": "code",
   "execution_count": 71,
   "metadata": {},
   "outputs": [
    {
     "data": {
      "text/plain": [
       "array([[17, 24,  1,  8, 15],\n",
       "       [23,  5,  7, 14, 16],\n",
       "       [ 4,  6, 13, 20, 22],\n",
       "       [10, 12, 19, 21,  3],\n",
       "       [11, 18, 25,  2,  9]])"
      ]
     },
     "execution_count": 71,
     "metadata": {},
     "output_type": "execute_result"
    }
   ],
   "source": [
    "A"
   ]
  },
  {
   "cell_type": "code",
   "execution_count": 72,
   "metadata": {},
   "outputs": [
    {
     "data": {
      "text/plain": [
       "array([[17, 17,  8,  8, 15],\n",
       "       [17,  7,  8, 14, 16],\n",
       "       [10, 10, 13, 16, 16],\n",
       "       [10, 12, 18, 19,  9],\n",
       "       [11, 18, 18,  9,  9]])"
      ]
     },
     "execution_count": 72,
     "metadata": {},
     "output_type": "execute_result"
    }
   ],
   "source": [
    "scipy.ndimage.median_filter(A,(3,3),mode='reflect')"
   ]
  },
  {
   "cell_type": "code",
   "execution_count": 74,
   "metadata": {},
   "outputs": [],
   "source": [
    "m,n = A.shape\n",
    "m1 = m * 2 \n",
    "n1 = n * 2"
   ]
  },
  {
   "cell_type": "code",
   "execution_count": 78,
   "metadata": {},
   "outputs": [
    {
     "data": {
      "text/plain": [
       "array([[17, 24,  1,  8, 15],\n",
       "       [23,  5,  7, 14, 16],\n",
       "       [ 4,  6, 13, 20, 22],\n",
       "       [10, 12, 19, 21,  3],\n",
       "       [11, 18, 25,  2,  9]])"
      ]
     },
     "execution_count": 78,
     "metadata": {},
     "output_type": "execute_result"
    }
   ],
   "source": [
    "A"
   ]
  },
  {
   "cell_type": "code",
   "execution_count": 122,
   "metadata": {},
   "outputs": [
    {
     "data": {
      "text/plain": [
       "array([[23.,  0.,  5.,  0.,  7.,  0., 14.,  0., 16.,  0.]])"
      ]
     },
     "execution_count": 122,
     "metadata": {},
     "output_type": "execute_result"
    }
   ],
   "source": [
    "t = np.zeros((1,n1))\n",
    "for i in range(0,n1,2):\n",
    "    t[0,i] = A[1,i//2]\n",
    "\n",
    "t"
   ]
  },
  {
   "cell_type": "code",
   "execution_count": 123,
   "metadata": {},
   "outputs": [
    {
     "data": {
      "text/plain": [
       "array([[ 0., 23.,  0.,  5.,  0.,  7.,  0., 14.,  0., 16.,  0., 17.]])"
      ]
     },
     "execution_count": 123,
     "metadata": {},
     "output_type": "execute_result"
    }
   ],
   "source": [
    "conv_t = np.column_stack((0,t,A[0,0]))\n",
    "conv_t"
   ]
  },
  {
   "cell_type": "code",
   "execution_count": 124,
   "metadata": {},
   "outputs": [
    {
     "data": {
      "text/plain": [
       "array([[11.5, 23. , 14. ,  5. ,  6. ,  7. , 10.5, 14. , 15. , 16. , 16.5,\n",
       "        17. ]])"
      ]
     },
     "execution_count": 124,
     "metadata": {},
     "output_type": "execute_result"
    }
   ],
   "source": [
    "w = np.array([[0.5,1,0.5]])\n",
    "scipy.signal.convolve2d(conv_t,w,mode='same')"
   ]
  },
  {
   "cell_type": "code",
   "execution_count": 127,
   "metadata": {},
   "outputs": [
    {
     "name": "stdout",
     "output_type": "stream",
     "text": [
      "(5, 5)\n",
      "(10, 10)\n"
     ]
    },
    {
     "data": {
      "text/plain": [
       "array([[17. , 20.5, 24. , 12.5,  1. ,  4.5,  8. , 11.5, 15. , 16. ],\n",
       "       [23. , 14. ,  5. ,  6. ,  7. , 10.5, 14. , 15. , 16. , 19.5],\n",
       "       [ 4. ,  5. ,  6. ,  9.5, 13. , 16.5, 20. , 21. , 22. , 13. ],\n",
       "       [10. , 11. , 12. , 15.5, 19. , 20. , 21. , 12. ,  3. ,  6.5],\n",
       "       [11. , 14.5, 18. , 21.5, 25. , 13.5,  2. ,  5.5,  9. , 10. ]])"
      ]
     },
     "execution_count": 127,
     "metadata": {},
     "output_type": "execute_result"
    }
   ],
   "source": [
    "m,n = A.shape\n",
    "print(A.shape)\n",
    "m1 = m * 2 \n",
    "n1 = n * 2\n",
    "result1 = np.zeros((m1,n1))\n",
    "print(result1.shape)\n",
    "mid = np.zeros((m,n1))\n",
    "w = np.array([[0.5,1,0.5]])\n",
    "\n",
    "for j in range(m):\n",
    "    t = np.zeros((1,n1))\n",
    "    for i in range(0,n1,2):\n",
    "        t[0,i] = A[j,i//2]\n",
    "    conv_t = np.column_stack((0,t,A[j,0]))\n",
    "    tmp = scipy.signal.convolve2d(conv_t,w,mode='same')\n",
    "    # print(tmp[:,1:-1].shape)\n",
    "    mid[j,:n1] = tmp[:,1:-1]\n",
    "\n",
    "mid"
   ]
  },
  {
   "cell_type": "code",
   "execution_count": 128,
   "metadata": {},
   "outputs": [
    {
     "data": {
      "text/plain": [
       "array([[17.  , 20.5 , 24.  , 12.5 ,  1.  ,  4.5 ,  8.  , 11.5 , 15.  ,\n",
       "        16.  ],\n",
       "       [20.  , 17.25, 14.5 ,  9.25,  4.  ,  7.5 , 11.  , 13.25, 15.5 ,\n",
       "        17.75],\n",
       "       [23.  , 14.  ,  5.  ,  6.  ,  7.  , 10.5 , 14.  , 15.  , 16.  ,\n",
       "        19.5 ],\n",
       "       [13.5 ,  9.5 ,  5.5 ,  7.75, 10.  , 13.5 , 17.  , 18.  , 19.  ,\n",
       "        16.25],\n",
       "       [ 4.  ,  5.  ,  6.  ,  9.5 , 13.  , 16.5 , 20.  , 21.  , 22.  ,\n",
       "        13.  ],\n",
       "       [ 7.  ,  8.  ,  9.  , 12.5 , 16.  , 18.25, 20.5 , 16.5 , 12.5 ,\n",
       "         9.75],\n",
       "       [10.  , 11.  , 12.  , 15.5 , 19.  , 20.  , 21.  , 12.  ,  3.  ,\n",
       "         6.5 ],\n",
       "       [10.5 , 12.75, 15.  , 18.5 , 22.  , 16.75, 11.5 ,  8.75,  6.  ,\n",
       "         8.25],\n",
       "       [11.  , 14.5 , 18.  , 21.5 , 25.  , 13.5 ,  2.  ,  5.5 ,  9.  ,\n",
       "        10.  ],\n",
       "       [14.  , 17.5 , 21.  , 17.  , 13.  ,  9.  ,  5.  ,  8.5 , 12.  ,\n",
       "        13.  ]])"
      ]
     },
     "execution_count": 128,
     "metadata": {},
     "output_type": "execute_result"
    }
   ],
   "source": [
    "for i in range(n1):\n",
    "    t = np.zeros((1,m1))\n",
    "    for j in range(0,m1,2):\n",
    "        t[0,j] = mid[j//2,i]\n",
    "    conv_t = np.column_stack((0,t,mid[0,i]))\n",
    "    tmp = scipy.signal.convolve(conv_t,w,mode='same')\n",
    "    result1[:,i] = tmp[:,1:-1]\n",
    "\n",
    "result1"
   ]
  },
  {
   "cell_type": "code",
   "execution_count": 10,
   "metadata": {},
   "outputs": [
    {
     "name": "stdout",
     "output_type": "stream",
     "text": [
      "5 5\n"
     ]
    },
    {
     "data": {
      "text/plain": [
       "(array([[-0.5,  0.5,  1.5,  2.5,  3.5],\n",
       "        [-0.5,  0.5,  1.5,  2.5,  3.5],\n",
       "        [-0.5,  0.5,  1.5,  2.5,  3.5],\n",
       "        [-0.5,  0.5,  1.5,  2.5,  3.5],\n",
       "        [-0.5,  0.5,  1.5,  2.5,  3.5]]),\n",
       " array([[-0.5, -0.5, -0.5, -0.5, -0.5],\n",
       "        [ 0.5,  0.5,  0.5,  0.5,  0.5],\n",
       "        [ 1.5,  1.5,  1.5,  1.5,  1.5],\n",
       "        [ 2.5,  2.5,  2.5,  2.5,  2.5],\n",
       "        [ 3.5,  3.5,  3.5,  3.5,  3.5]]))"
      ]
     },
     "execution_count": 10,
     "metadata": {},
     "output_type": "execute_result"
    }
   ],
   "source": [
    "n, m = A.shape\n",
    "print(n,m)\n",
    "X,Y = np.meshgrid(np.arange(n),np.arange(m))\n",
    "X = X - 1/2\n",
    "Y = Y - 1/2\n",
    "X,Y"
   ]
  },
  {
   "cell_type": "code",
   "execution_count": 9,
   "metadata": {},
   "outputs": [
    {
     "data": {
      "text/plain": [
       "(array([[1. , 1. , 1.5, 2.5, 3.5],\n",
       "        [1. , 1. , 1.5, 2.5, 3.5],\n",
       "        [1. , 1. , 1.5, 2.5, 3.5],\n",
       "        [1. , 1. , 1.5, 2.5, 3.5],\n",
       "        [1. , 1. , 1.5, 2.5, 3.5]]),\n",
       " array([[1. , 1. , 1. , 1. , 1. ],\n",
       "        [1. , 1. , 1. , 1. , 1. ],\n",
       "        [1.5, 1.5, 1.5, 1.5, 1.5],\n",
       "        [2.5, 2.5, 2.5, 2.5, 2.5],\n",
       "        [3.5, 3.5, 3.5, 3.5, 3.5]]))"
      ]
     },
     "execution_count": 9,
     "metadata": {},
     "output_type": "execute_result"
    }
   ],
   "source": [
    "for i in range(m):\n",
    "    for j in range(n):\n",
    "        if X[i,j]> n:\n",
    "            X[i,j] = n\n",
    "        if X[i,j] < 1:\n",
    "            X[i,j] = 1\n",
    "        if Y[i,j] > m:\n",
    "            Y[i,j] = m\n",
    "        if Y[i,j] < 1:\n",
    "            Y[i,j] = 1\n",
    "\n",
    "X,Y"
   ]
  },
  {
   "cell_type": "code",
   "execution_count": 12,
   "metadata": {},
   "outputs": [
    {
     "data": {
      "text/plain": [
       "array([[ 0.25,  0.  , -0.25],\n",
       "       [ 0.  ,  0.  ,  0.  ],\n",
       "       [-0.25,  0.  ,  0.25]])"
      ]
     },
     "execution_count": 12,
     "metadata": {},
     "output_type": "execute_result"
    }
   ],
   "source": [
    "Dxfilter = np.array([[-0.5,0,0.5]])\n",
    "\n",
    "Dyfilter = Dxfilter.T\n",
    "Dxyfilter = scipy.signal.convolve2d(Dxfilter,Dyfilter,mode='full')\n",
    "Dxyfilter"
   ]
  },
  {
   "cell_type": "code",
   "execution_count": 15,
   "metadata": {},
   "outputs": [
    {
     "data": {
      "text/plain": [
       "array([17, 23,  4, 10, 11, 24,  5,  6, 12, 18,  1,  7, 13, 19, 25,  8, 14,\n",
       "       20, 21,  2, 15, 16, 22,  3,  9])"
      ]
     },
     "execution_count": 15,
     "metadata": {},
     "output_type": "execute_result"
    }
   ],
   "source": [
    "XI = A.flatten('F')\n",
    "XI"
   ]
  },
  {
   "cell_type": "code",
   "execution_count": 30,
   "metadata": {},
   "outputs": [
    {
     "name": "stdout",
     "output_type": "stream",
     "text": [
      "3 3\n",
      "[15. 21.  2.  8.  9. 22.  3.  4. 10. 16. -1.  5. 11. 17. 23.  6. 12. 18.\n",
      " 19.  0. 13. 14. 20.  1.  7.]\n",
      "[16. 22.  3.  9. 10. 23.  4.  5. 11. 17.  0.  6. 12. 18. 24.  7. 13. 19.\n",
      " 20.  1. 14. 15. 21.  2.  8.]\n",
      "[14. 21. -2.  5. 12. 20.  2.  4. 11. 13.  1.  3. 10. 17. 19.  7.  9. 16.\n",
      " 18.  0.  8. 15. 22. -1.  6.]\n",
      "[15. 22. -1.  6. 13. 21.  3.  5. 12. 14.  2.  4. 11. 18. 20.  8. 10. 17.\n",
      " 19.  1.  9. 16. 23.  0.  7.]\n"
     ]
    }
   ],
   "source": [
    "XI = A.flatten('F') -3/2#flatten column wise\n",
    "YI = A.T.flatten('F') - 5/2\n",
    "\n",
    "# Bound coordinates to valid region\n",
    "sx = A[1:-1,1:-1].shape[1]\n",
    "sy = A[1:-1,1:-1].shape[0]\n",
    "\n",
    "# Neighbor coordinates\n",
    "fXI = np.floor(XI)\n",
    "cXI = fXI + 1\n",
    "fYI = np.floor(YI)\n",
    "cYI = fYI + 1\n",
    "print(sx,sy)\n",
    "print(fXI)\n",
    "print(cXI)\n",
    "print(fYI)\n",
    "print(cYI)"
   ]
  },
  {
   "cell_type": "code",
   "execution_count": 27,
   "metadata": {},
   "outputs": [
    {
     "name": "stdout",
     "output_type": "stream",
     "text": [
      "[False False False False False False False False False False  True False\n",
      " False False False False False False False  True False False False False\n",
      " False]\n"
     ]
    },
    {
     "data": {
      "text/plain": [
       "array([0, 0, 0, 0, 0, 0, 0, 0, 0, 0, 1, 0, 0, 0, 0, 0, 0, 0, 0, 1, 0, 0,\n",
       "       0, 0, 0])"
      ]
     },
     "execution_count": 27,
     "metadata": {},
     "output_type": "execute_result"
    }
   ],
   "source": [
    "print(fXI<1)\n",
    "y = np.array(fXI<1,dtype=bool)\n",
    "y.astype(int)"
   ]
  },
  {
   "cell_type": "code",
   "execution_count": 32,
   "metadata": {},
   "outputs": [
    {
     "data": {
      "text/plain": [
       "array([1, 1, 0, 1, 1, 1, 1, 1, 1, 1, 1, 1, 1, 1, 1, 1, 1, 1, 1, 1, 1, 1,\n",
       "       1, 0, 1])"
      ]
     },
     "execution_count": 32,
     "metadata": {},
     "output_type": "execute_result"
    }
   ],
   "source": [
    "b = (fXI <1) | (cXI >sx)\n",
    "b.astype(int)"
   ]
  },
  {
   "cell_type": "code",
   "execution_count": 38,
   "metadata": {},
   "outputs": [],
   "source": [
    "matlab_min = lambda m,vec: np.array([v if v < m else m for v in vec])\n",
    "matlab_max = lambda m, vec: np.array([m if v < m else v for v in vec])"
   ]
  },
  {
   "cell_type": "code",
   "execution_count": 37,
   "metadata": {},
   "outputs": [
    {
     "data": {
      "text/plain": [
       "array([1., 2., 3., 3., 3., 3., 3., 3., 3., 3.])"
      ]
     },
     "execution_count": 37,
     "metadata": {},
     "output_type": "execute_result"
    }
   ],
   "source": [
    "matlab_min(3,np.linspace(1,10,10,endpoint=True)) #equivalent to min(m,vec)"
   ]
  },
  {
   "cell_type": "code",
   "execution_count": 40,
   "metadata": {},
   "outputs": [
    {
     "data": {
      "text/plain": [
       "array([ 4.,  4.,  4.,  4.,  5.,  6.,  7.,  8.,  9., 10.])"
      ]
     },
     "execution_count": 40,
     "metadata": {},
     "output_type": "execute_result"
    }
   ],
   "source": [
    "matlab_max(4,np.linspace(1,10,10,endpoint=True)) #equivalent to max(m,vec)"
   ]
  },
  {
   "cell_type": "code",
   "execution_count": 41,
   "metadata": {},
   "outputs": [
    {
     "data": {
      "text/plain": [
       "array([2., 2., 3., 3., 3., 3., 3., 3., 3., 3.])"
      ]
     },
     "execution_count": 41,
     "metadata": {},
     "output_type": "execute_result"
    }
   ],
   "source": [
    "matlab_max(2,matlab_min(3,np.linspace(1,10,10,endpoint=True)))"
   ]
  },
  {
   "cell_type": "code",
   "execution_count": 43,
   "metadata": {},
   "outputs": [
    {
     "data": {
      "text/plain": [
       "array([15, 21,  2,  8,  9, 22,  3,  4, 10, 16,  0,  5, 11, 17, 23,  6, 12,\n",
       "       18, 19,  0, 13, 14, 20,  1,  7])"
      ]
     },
     "execution_count": 43,
     "metadata": {},
     "output_type": "execute_result"
    }
   ],
   "source": [
    "XI.astype(int)"
   ]
  },
  {
   "cell_type": "code",
   "execution_count": 49,
   "metadata": {},
   "outputs": [
    {
     "data": {
      "text/plain": [
       "array([3, 3, 2, 3, 3, 3, 3, 3, 3, 3, 2, 3, 3, 3, 3, 3, 3, 3, 3, 2, 3, 3,\n",
       "       3, 2, 3])"
      ]
     },
     "execution_count": 49,
     "metadata": {},
     "output_type": "execute_result"
    }
   ],
   "source": [
    "fXI = fXI.astype(int)\n",
    "fXI = matlab_max(2,matlab_min(3,fXI))\n",
    "fXI"
   ]
  },
  {
   "cell_type": "code",
   "execution_count": 50,
   "metadata": {},
   "outputs": [
    {
     "data": {
      "text/plain": [
       "array([ 0,  3,  6,  9, 12, 15, 18])"
      ]
     },
     "execution_count": 50,
     "metadata": {},
     "output_type": "execute_result"
    }
   ],
   "source": [
    "x = np.array(list(range(0,20,3)))\n",
    "x"
   ]
  },
  {
   "cell_type": "code",
   "execution_count": 54,
   "metadata": {},
   "outputs": [
    {
     "data": {
      "text/plain": [
       "array([[17, 24,  1,  8, 15],\n",
       "       [23,  5,  7, 14, 16],\n",
       "       [ 4,  6, 13, 20, 22],\n",
       "       [10, 12, 19, 21,  3],\n",
       "       [11, 18, 25,  2,  9]])"
      ]
     },
     "execution_count": 54,
     "metadata": {},
     "output_type": "execute_result"
    }
   ],
   "source": [
    "A"
   ]
  },
  {
   "cell_type": "code",
   "execution_count": 53,
   "metadata": {},
   "outputs": [
    {
     "data": {
      "text/plain": [
       "array([17, 10,  5, 18, 13,  8, 21])"
      ]
     },
     "execution_count": 53,
     "metadata": {},
     "output_type": "execute_result"
    }
   ],
   "source": [
    "idx = np.unravel_index(x,(m,n),order='F')\n",
    "A[idx]"
   ]
  },
  {
   "cell_type": "code",
   "execution_count": 56,
   "metadata": {},
   "outputs": [
    {
     "data": {
      "text/plain": [
       "dtype('int32')"
      ]
     },
     "execution_count": 56,
     "metadata": {},
     "output_type": "execute_result"
    }
   ],
   "source": [
    "x = (x-1)*3 + x\n",
    "x.dtype"
   ]
  },
  {
   "cell_type": "code",
   "execution_count": 60,
   "metadata": {},
   "outputs": [
    {
     "data": {
      "text/plain": [
       "array([[17, 24,  1,  8, 15],\n",
       "       [23,  5,  7, 14, 16],\n",
       "       [ 4,  6, 13, 20, 22],\n",
       "       [10, 12, 19, 21,  3],\n",
       "       [11, 18, 25,  2,  9]])"
      ]
     },
     "execution_count": 60,
     "metadata": {},
     "output_type": "execute_result"
    }
   ],
   "source": [
    "A"
   ]
  },
  {
   "cell_type": "code",
   "execution_count": 74,
   "metadata": {},
   "outputs": [
    {
     "data": {
      "text/plain": [
       "array([[ 3, -8, -8,  7,  3],\n",
       "       [-9, -8,  4,  4,  1],\n",
       "       [ 1,  4,  7,  4,  1],\n",
       "       [ 1,  4,  4, -8, -9],\n",
       "       [ 3,  7, -8, -8,  3]])"
      ]
     },
     "execution_count": 74,
     "metadata": {},
     "output_type": "execute_result"
    }
   ],
   "source": [
    "Dxfilter = np.array([[-0.5,0,0.5]])\n",
    "scipy.ndimage.correlate(A, Dxfilter,mode='reflect')"
   ]
  },
  {
   "cell_type": "code",
   "execution_count": 71,
   "metadata": {},
   "outputs": [
    {
     "data": {
      "text/plain": [
       "3.5"
      ]
     },
     "execution_count": 71,
     "metadata": {},
     "output_type": "execute_result"
    }
   ],
   "source": [
    "17*0 - 0.5*17 + 0.5*24"
   ]
  },
  {
   "cell_type": "code",
   "execution_count": 75,
   "metadata": {},
   "outputs": [
    {
     "data": {
      "text/plain": [
       "array([[17, 24,  1,  8, 15],\n",
       "       [23,  5,  7, 14, 16],\n",
       "       [ 4,  6, 13, 20, 22],\n",
       "       [10, 12, 19, 21,  3],\n",
       "       [11, 18, 25,  2,  9],\n",
       "       [17, 24,  1,  8, 15],\n",
       "       [23,  5,  7, 14, 16],\n",
       "       [ 4,  6, 13, 20, 22],\n",
       "       [10, 12, 19, 21,  3],\n",
       "       [11, 18, 25,  2,  9]])"
      ]
     },
     "execution_count": 75,
     "metadata": {},
     "output_type": "execute_result"
    }
   ],
   "source": [
    "np.row_stack((A,A))"
   ]
  },
  {
   "cell_type": "code",
   "execution_count": 78,
   "metadata": {},
   "outputs": [
    {
     "data": {
      "text/plain": [
       "3"
      ]
     },
     "execution_count": 78,
     "metadata": {},
     "output_type": "execute_result"
    }
   ],
   "source": [
    "idx_list = [idx]*3\n",
    "idx_list"
   ]
  },
  {
   "cell_type": "code",
   "execution_count": 84,
   "metadata": {},
   "outputs": [
    {
     "data": {
      "text/plain": [
       "[array([17, 10,  5, 18, 13,  8, 21]),\n",
       " array([17, 10,  5, 18, 13,  8, 21]),\n",
       " array([17, 10,  5, 18, 13,  8, 21])]"
      ]
     },
     "execution_count": 84,
     "metadata": {},
     "output_type": "execute_result"
    }
   ],
   "source": [
    "A_list = [A[idx].T for idx in idx_list]\n",
    "A_list"
   ]
  },
  {
   "cell_type": "code",
   "execution_count": 85,
   "metadata": {},
   "outputs": [
    {
     "data": {
      "text/plain": [
       "array([[17, 10,  5, 18, 13,  8, 21],\n",
       "       [17, 10,  5, 18, 13,  8, 21],\n",
       "       [17, 10,  5, 18, 13,  8, 21]])"
      ]
     },
     "execution_count": 85,
     "metadata": {},
     "output_type": "execute_result"
    }
   ],
   "source": [
    "np.row_stack(A_list)"
   ]
  },
  {
   "cell_type": "code",
   "execution_count": 90,
   "metadata": {},
   "outputs": [
    {
     "data": {
      "text/plain": [
       "array([15.5, 21.5,  2.5,  8.5,  9.5, 22.5,  3.5,  4.5, 10.5, 16.5, -0.5,\n",
       "        5.5, 11.5, 17.5, 23.5,  6.5, 12.5, 18.5, 19.5,  0.5, 13.5, 14.5,\n",
       "       20.5,  1.5,  7.5])"
      ]
     },
     "execution_count": 90,
     "metadata": {},
     "output_type": "execute_result"
    }
   ],
   "source": [
    "XI"
   ]
  },
  {
   "cell_type": "code",
   "execution_count": 91,
   "metadata": {},
   "outputs": [
    {
     "data": {
      "text/plain": [
       "array([[15.5, 22.5, -0.5,  6.5, 13.5],\n",
       "       [21.5,  3.5,  5.5, 12.5, 14.5],\n",
       "       [ 2.5,  4.5, 11.5, 18.5, 20.5],\n",
       "       [ 8.5, 10.5, 17.5, 19.5,  1.5],\n",
       "       [ 9.5, 16.5, 23.5,  0.5,  7.5]])"
      ]
     },
     "execution_count": 91,
     "metadata": {},
     "output_type": "execute_result"
    }
   ],
   "source": [
    "XI.reshape(5,5,order='F')"
   ]
  },
  {
   "cell_type": "code",
   "execution_count": 96,
   "metadata": {},
   "outputs": [
    {
     "name": "stdout",
     "output_type": "stream",
     "text": [
      "[False False  True False False False False False False False  True False\n",
      " False False False False False False False  True False False False  True\n",
      " False]\n"
     ]
    },
    {
     "data": {
      "text/plain": [
       "array([0, 0, 1, 0, 0, 0, 0, 0, 0, 0, 1, 0, 0, 0, 0, 0, 0, 0, 0, 1, 0, 0,\n",
       "       0, 1, 0])"
      ]
     },
     "execution_count": 96,
     "metadata": {},
     "output_type": "execute_result"
    }
   ],
   "source": [
    "print(fXI<3)\n",
    "y = np.array(fXI<3,dtype=bool)\n",
    "y.astype(int)"
   ]
  },
  {
   "cell_type": "code",
   "execution_count": 98,
   "metadata": {},
   "outputs": [
    {
     "data": {
      "text/plain": [
       "array([3, 3, 0, 3, 3, 3, 3, 3, 3, 3, 0, 3, 3, 3, 3, 3, 3, 3, 3, 0, 3, 3,\n",
       "       3, 0, 3])"
      ]
     },
     "execution_count": 98,
     "metadata": {},
     "output_type": "execute_result"
    }
   ],
   "source": [
    "fXI[y] = 0\n",
    "fXI"
   ]
  },
  {
   "cell_type": "code",
   "execution_count": 101,
   "metadata": {},
   "outputs": [
    {
     "data": {
      "text/plain": [
       "array([[0.5, 1.5, 2.5, 3.5, 4. ],\n",
       "       [0.5, 1.5, 2.5, 3.5, 4. ],\n",
       "       [0.5, 1.5, 2.5, 3.5, 4. ],\n",
       "       [0.5, 1.5, 2.5, 3.5, 4. ],\n",
       "       [0.5, 1.5, 2.5, 3.5, 4. ]])"
      ]
     },
     "execution_count": 101,
     "metadata": {},
     "output_type": "execute_result"
    }
   ],
   "source": [
    "m,n = A.shape[0], A.shape[1]\n",
    "x,y = np.meshgrid(np.arange(n),np.arange(m))\n",
    "x = x + 1/2\n",
    "y = y + 1/2\n",
    "\n",
    "for i in range(m):\n",
    "    for j in range(n):\n",
    "        if x[i,j] > n - 1:\n",
    "            x[i,j] = n - 1 \n",
    "        if x[i,j] < 0:\n",
    "            x[i,j] = 0\n",
    "        if y[i,j] > m - 1:\n",
    "            y[i,j] = m - 1\n",
    "        if y[i,j] < 0:\n",
    "            y[i,j] = 0\n",
    "\n",
    "x"
   ]
  },
  {
   "cell_type": "code",
   "execution_count": 103,
   "metadata": {},
   "outputs": [
    {
     "data": {
      "text/plain": [
       "array([[17, 24,  1,  8, 15],\n",
       "       [23,  5,  7, 14, 16],\n",
       "       [ 4,  6, 13, 20, 22],\n",
       "       [10, 12, 19, 21,  3],\n",
       "       [11, 18, 25,  2,  9]])"
      ]
     },
     "execution_count": 103,
     "metadata": {},
     "output_type": "execute_result"
    }
   ],
   "source": [
    "A"
   ]
  },
  {
   "cell_type": "code",
   "execution_count": 104,
   "metadata": {},
   "outputs": [
    {
     "data": {
      "text/plain": [
       "array([17, 13,  9])"
      ]
     },
     "execution_count": 104,
     "metadata": {},
     "output_type": "execute_result"
    }
   ],
   "source": [
    "A[list(range(0,5,2)),list(range(0,5,2))]"
   ]
  },
  {
   "cell_type": "code",
   "execution_count": 106,
   "metadata": {},
   "outputs": [
    {
     "data": {
      "text/plain": [
       "[0, 2, 4]"
      ]
     },
     "execution_count": 106,
     "metadata": {},
     "output_type": "execute_result"
    }
   ],
   "source": [
    "list(range(0,5,2))"
   ]
  },
  {
   "cell_type": "code",
   "execution_count": 107,
   "metadata": {},
   "outputs": [
    {
     "data": {
      "text/plain": [
       "array([[17,  1, 15],\n",
       "       [ 4, 13, 22],\n",
       "       [11, 25,  9]])"
      ]
     },
     "execution_count": 107,
     "metadata": {},
     "output_type": "execute_result"
    }
   ],
   "source": [
    "A[::2,::2]"
   ]
  },
  {
   "cell_type": "code",
   "execution_count": 109,
   "metadata": {},
   "outputs": [
    {
     "name": "stdout",
     "output_type": "stream",
     "text": [
      "[[1.  1.5 2.5 3.5 4.5]\n",
      " [1.  1.5 2.5 3.5 4.5]\n",
      " [1.  1.5 2.5 3.5 4.5]\n",
      " [1.  1.5 2.5 3.5 4.5]\n",
      " [1.  1.5 2.5 3.5 4.5]]\n"
     ]
    }
   ],
   "source": [
    "m,n = 5,5\n",
    "x,y = np.meshgrid(np.linspace(1,n,n,endpoint=True),np.linspace(1,m,m,endpoint=True))\n",
    "x = x - 1/2\n",
    "y = y - 1/2\n",
    "\n",
    "for i in range(m):\n",
    "    for j in range(n):\n",
    "        if x[i,j]> n:\n",
    "            x[i,j] = n\n",
    "        if x[i,j] < 1:\n",
    "            x[i,j] = 1\n",
    "        if y[i,j] > m:\n",
    "            y[i,j] = m\n",
    "        if y[i,j] < 1:\n",
    "            y[i,j] = 1\n",
    "\n",
    "print(x)"
   ]
  },
  {
   "cell_type": "code",
   "execution_count": 112,
   "metadata": {},
   "outputs": [
    {
     "data": {
      "text/plain": [
       "array([[1.5, 2.5, 3.5, 4.5, 5. ],\n",
       "       [1.5, 2.5, 3.5, 4.5, 5. ],\n",
       "       [1.5, 2.5, 3.5, 4.5, 5. ],\n",
       "       [1.5, 2.5, 3.5, 4.5, 5. ],\n",
       "       [1.5, 2.5, 3.5, 4.5, 5. ]])"
      ]
     },
     "execution_count": 112,
     "metadata": {},
     "output_type": "execute_result"
    }
   ],
   "source": [
    "m,n = 5,5\n",
    "x,y = np.meshgrid(np.linspace(1,n,n,endpoint=True),np.linspace(1,m,m,endpoint=True))\n",
    "x = x + 1/2\n",
    "y = y + 1/2\n",
    "\n",
    "for i in range(m):\n",
    "    for j in range(n):\n",
    "        if x[i,j] > n:\n",
    "            x[i,j] = n\n",
    "        if x[i,j] < 1:\n",
    "            x[i,j] = 1\n",
    "        if y[i,j] > m:\n",
    "            y[i,j] = m\n",
    "        if y[i,j] < 1:\n",
    "            y[i,j] = 1\n",
    "\n",
    "x"
   ]
  },
  {
   "cell_type": "code",
   "execution_count": 113,
   "metadata": {},
   "outputs": [
    {
     "data": {
      "text/plain": [
       "array([[1.5, 1.5, 1.5, 1.5, 1.5],\n",
       "       [2.5, 2.5, 2.5, 2.5, 2.5],\n",
       "       [3.5, 3.5, 3.5, 3.5, 3.5],\n",
       "       [4.5, 4.5, 4.5, 4.5, 4.5],\n",
       "       [5. , 5. , 5. , 5. , 5. ]])"
      ]
     },
     "execution_count": 113,
     "metadata": {},
     "output_type": "execute_result"
    }
   ],
   "source": [
    "y"
   ]
  },
  {
   "cell_type": "code",
   "execution_count": 115,
   "metadata": {},
   "outputs": [
    {
     "data": {
      "text/plain": [
       "array([[17, 24,  1,  8, 15],\n",
       "       [23,  5,  7, 14, 16],\n",
       "       [ 4,  6, 13, 20, 22],\n",
       "       [10, 12, 19, 21,  3],\n",
       "       [11, 18, 25,  2,  9]])"
      ]
     },
     "execution_count": 115,
     "metadata": {},
     "output_type": "execute_result"
    }
   ],
   "source": [
    "A"
   ]
  },
  {
   "cell_type": "code",
   "execution_count": 119,
   "metadata": {},
   "outputs": [
    {
     "data": {
      "text/plain": [
       "<matplotlib.image.AxesImage at 0x2435292fa08>"
      ]
     },
     "execution_count": 119,
     "metadata": {},
     "output_type": "execute_result"
    },
    {
     "data": {
      "image/png": "[encoded data removed]",
      "text/plain": [
       "<Figure size 432x288 with 1 Axes>"
      ]
     },
     "metadata": {
      "needs_background": "light"
     },
     "output_type": "display_data"
    }
   ],
   "source": [
    "img = cv.imread('pics/fluid.jpg')\n",
    "img_resize = cv.resize(img[:,:,0],(30,30),interpolation=cv.INTER_LINEAR)\n",
    "\n",
    "plt.figure()\n",
    "plt.imshow(img_resize)"
   ]
  },
  {
   "cell_type": "code",
   "execution_count": 122,
   "metadata": {},
   "outputs": [
    {
     "ename": "error",
     "evalue": "OpenCV(4.5.4-dev) D:\\a\\opencv-python\\opencv-python\\opencv\\modules\\imgproc\\src\\resize.cpp:3929: error: (-215:Assertion failed) func != 0 in function 'cv::hal::resize'\n",
     "output_type": "error",
     "traceback": [
      "\u001b[1;31m---------------------------------------------------------------------------\u001b[0m",
      "\u001b[1;31merror\u001b[0m                                     Traceback (most recent call last)",
      "\u001b[1;32mC:\\Users\\PAKHUI~1\\AppData\\Local\\Temp/ipykernel_12748/2814026793.py\u001b[0m in \u001b[0;36m<module>\u001b[1;34m\u001b[0m\n\u001b[1;32m----> 1\u001b[1;33m \u001b[0mcv\u001b[0m\u001b[1;33m.\u001b[0m\u001b[0mresize\u001b[0m\u001b[1;33m(\u001b[0m\u001b[0mA\u001b[0m\u001b[1;33m,\u001b[0m\u001b[1;33m(\u001b[0m\u001b[1;36m30\u001b[0m\u001b[1;33m,\u001b[0m\u001b[1;36m30\u001b[0m\u001b[1;33m)\u001b[0m\u001b[1;33m,\u001b[0m\u001b[0minterpolation\u001b[0m\u001b[1;33m=\u001b[0m\u001b[0mcv\u001b[0m\u001b[1;33m.\u001b[0m\u001b[0mINTER_LINEAR\u001b[0m\u001b[1;33m)\u001b[0m\u001b[1;33m\u001b[0m\u001b[1;33m\u001b[0m\u001b[0m\n\u001b[0m",
      "\u001b[1;31merror\u001b[0m: OpenCV(4.5.4-dev) D:\\a\\opencv-python\\opencv-python\\opencv\\modules\\imgproc\\src\\resize.cpp:3929: error: (-215:Assertion failed) func != 0 in function 'cv::hal::resize'\n"
     ]
    }
   ],
   "source": [
    "cv.resize(A,(30,30),interpolation=cv.INTER_LINEAR)"
   ]
  },
  {
   "cell_type": "code",
   "execution_count": 126,
   "metadata": {},
   "outputs": [
    {
     "data": {
      "text/plain": [
       "(30, 30, 2)"
      ]
     },
     "execution_count": 126,
     "metadata": {},
     "output_type": "execute_result"
    }
   ],
   "source": [
    "x = np.stack((img_resize,img_resize),axis=2)\n",
    "x.shape"
   ]
  },
  {
   "cell_type": "code",
   "execution_count": null,
   "metadata": {},
   "outputs": [],
   "source": [
    "w = np.array([[1/16,1/8,1/16],[1/8,1/4,1/8],[1/16,1/8,1/16]])\n",
    "mid = scipy.signal.convolve2d(A,w,mode='same')\n",
    "\n",
    "#Step 2: interpretation\n",
    "m,n = A.shape[0], A.shape[1]\n",
    "x,y = np.meshgrid(np.linspace(1,n,n,endpoint=True),np.linspace(1,m,m,endpoint=True))\n",
    "x = x + 1/2\n",
    "y = y + 1/2\n",
    "\n",
    "for i in range(m):\n",
    "    for j in range(n):\n",
    "        if x[i,j] > n:\n",
    "            x[i,j] = n\n",
    "        if x[i,j] < 1:\n",
    "            x[i,j] = 1\n",
    "        if y[i,j] > m:\n",
    "            y[i,j] = m\n",
    "        if y[i,j] < 1:\n",
    "            y[i,j] = 1\n",
    "\n"
   ]
  },
  {
   "cell_type": "code",
   "execution_count": 54,
   "metadata": {},
   "outputs": [
    {
     "data": {
      "text/plain": [
       "array([[17.  , 20.5 , 24.  , 12.5 ,  1.  ,  4.5 ,  8.  , 11.5 , 15.  ,\n",
       "        16.  ],\n",
       "       [20.  , 17.25, 14.5 ,  9.25,  4.  ,  7.5 , 11.  , 13.25, 15.5 ,\n",
       "        17.75],\n",
       "       [23.  , 14.  ,  5.  ,  6.  ,  7.  , 10.5 , 14.  , 15.  , 16.  ,\n",
       "        19.5 ],\n",
       "       [13.5 ,  9.5 ,  5.5 ,  7.75, 10.  , 13.5 , 17.  , 18.  , 19.  ,\n",
       "        16.25],\n",
       "       [ 4.  ,  5.  ,  6.  ,  9.5 , 13.  , 16.5 , 20.  , 21.  , 22.  ,\n",
       "        13.  ],\n",
       "       [ 7.  ,  8.  ,  9.  , 12.5 , 16.  , 18.25, 20.5 , 16.5 , 12.5 ,\n",
       "         9.75],\n",
       "       [10.  , 11.  , 12.  , 15.5 , 19.  , 20.  , 21.  , 12.  ,  3.  ,\n",
       "         6.5 ],\n",
       "       [10.5 , 12.75, 15.  , 18.5 , 22.  , 16.75, 11.5 ,  8.75,  6.  ,\n",
       "         8.25],\n",
       "       [11.  , 14.5 , 18.  , 21.5 , 25.  , 13.5 ,  2.  ,  5.5 ,  9.  ,\n",
       "        10.  ],\n",
       "       [14.  , 17.5 , 21.  , 17.  , 13.  ,  9.  ,  5.  ,  8.5 , 12.  ,\n",
       "        13.  ]])"
      ]
     },
     "execution_count": 54,
     "metadata": {},
     "output_type": "execute_result"
    }
   ],
   "source": [
    "m,n = A.shape\n",
    "m1 = m * 2 \n",
    "n1 = n * 2\n",
    "result1 = np.zeros((m1,n1))\n",
    "mid = np.zeros((m,n1))\n",
    "w = np.array([[0.5, 1, 0.5]])\n",
    "\n",
    "for j in range(m): #iterate across row\n",
    "    t = np.zeros((1,n1))\n",
    "    for i in range(0,n1,2): #expand the columns\n",
    "        t[0,i] = A[j,i//2] \n",
    "    conv_t = np.column_stack((0,t,A[j,0])) #pad with 0 and first column\n",
    "    tmp = scipy.signal.convolve(conv_t,w,mode='same') #to average out between across alternate columns\n",
    "    mid[j,:n1] = tmp[:,1:-1]\n",
    "\n",
    "for i in range(n1): # iterate across the expanded columns of mid\n",
    "    t = np.zeros((1,m1))\n",
    "    for j in range(0,m1,2): #expand the rows now\n",
    "        t[0,j] = mid[j//2,i]\n",
    "    conv_t = np.column_stack((0,t,mid[0,i])) #pad with 0 and first row\n",
    "    tmp = scipy.signal.convolve(conv_t,w,mode='same')\n",
    "    result1[:,i] = tmp[:,1:-1]\n",
    "\n",
    "m,n = result1.shape[0], result1.shape[1]\n",
    "x1 = np.linspace(1,n,n,endpoint=True)# - 1/2\n",
    "y1 = np.linspace(1,m,m,endpoint=True)# - 1/2\n",
    "\n",
    "x,y = np.meshgrid(x1,y1)\n",
    "\n",
    "x = x - 1/2 \n",
    "y = y - 1/2\n",
    "\n",
    "result_spline = scipy.interpolate.RectBivariateSpline(x1, y1, result1)\n",
    "result_spline = result_spline.ev(x,y)\n",
    "\n",
    "for i in range(m):\n",
    "    for j in range(n):\n",
    "        if x[i,j]> n:\n",
    "            x[i,j] = n\n",
    "        if x[i,j] < 1:\n",
    "            x[i,j] = 1\n",
    "        if y[i,j] > m:\n",
    "            y[i,j] = m\n",
    "        if y[i,j] < 1:\n",
    "            y[i,j] = 1\n",
    "\n",
    "\n",
    "result_linear = scipy.interpolate.RegularGridInterpolator((x1, y1), result1,method='linear')\n",
    "x1,y1 = np.meshgrid(x1,y1)\n",
    "result_griddata = scipy.interpolate.griddata(np.column_stack((x1.ravel(),y1.ravel())), result1.ravel(), (x, y), method='linear')\n",
    "\n",
    "\n",
    "result_linear = result_linear((x,y))\n",
    "\n",
    "result1"
   ]
  },
  {
   "cell_type": "code",
   "execution_count": 63,
   "metadata": {},
   "outputs": [
    {
     "data": {
      "text/plain": [
       "array([[1. , 1. , 1. , 1. , 1. , 1. , 1. , 1. , 1. , 1. ],\n",
       "       [1.5, 1.5, 1.5, 1.5, 1.5, 1.5, 1.5, 1.5, 1.5, 1.5],\n",
       "       [2.5, 2.5, 2.5, 2.5, 2.5, 2.5, 2.5, 2.5, 2.5, 2.5],\n",
       "       [3.5, 3.5, 3.5, 3.5, 3.5, 3.5, 3.5, 3.5, 3.5, 3.5],\n",
       "       [4.5, 4.5, 4.5, 4.5, 4.5, 4.5, 4.5, 4.5, 4.5, 4.5],\n",
       "       [5.5, 5.5, 5.5, 5.5, 5.5, 5.5, 5.5, 5.5, 5.5, 5.5],\n",
       "       [6.5, 6.5, 6.5, 6.5, 6.5, 6.5, 6.5, 6.5, 6.5, 6.5],\n",
       "       [7.5, 7.5, 7.5, 7.5, 7.5, 7.5, 7.5, 7.5, 7.5, 7.5],\n",
       "       [8.5, 8.5, 8.5, 8.5, 8.5, 8.5, 8.5, 8.5, 8.5, 8.5],\n",
       "       [9.5, 9.5, 9.5, 9.5, 9.5, 9.5, 9.5, 9.5, 9.5, 9.5]])"
      ]
     },
     "execution_count": 63,
     "metadata": {},
     "output_type": "execute_result"
    }
   ],
   "source": [
    "y"
   ]
  },
  {
   "cell_type": "code",
   "execution_count": 55,
   "metadata": {},
   "outputs": [
    {
     "data": {
      "text/plain": [
       "array([[17.        , 17.33292898, 22.66707102, 19.43628693,  7.52528126,\n",
       "         4.52508803,  8.93686663, 10.41494547, 10.59085151, 12.03414849],\n",
       "       [17.35094255, 17.11623803, 19.75631436, 16.67325154,  7.4635618 ,\n",
       "         5.42546925,  9.59753864, 11.33261039, 12.06990296, 13.57656464],\n",
       "       [23.64905745, 20.48953533, 11.63791228,  7.33156854,  5.81043124,\n",
       "         6.3487385 ,  9.90663733, 12.56397798, 15.02706758, 17.95146482],\n",
       "       [19.67782764, 16.85824622,  7.63441094,  4.88819476,  6.92255067,\n",
       "         8.87035031, 12.06857417, 14.93677438, 18.09594656, 20.08564374],\n",
       "       [ 5.264632  ,  5.76022881,  6.01669493,  7.59749323, 10.09459553,\n",
       "        12.80319542, 16.03033965, 19.06596351, 23.25643524, 22.21835864],\n",
       "       [ 1.63864437,  3.30556643,  6.78158146, 10.00789097, 13.18143542,\n",
       "        15.88883654, 18.43982493, 19.82399731, 20.85317681, 18.10511985],\n",
       "       [ 6.55579054,  8.02858749, 11.03339722, 13.95106394, 17.16713555,\n",
       "        19.11144632, 21.15543628, 18.27838173,  9.40256896,  5.01601304],\n",
       "       [ 9.63819349, 10.91164922, 13.44076404, 16.04583135, 19.50670687,\n",
       "        20.04081834, 18.58389114, 14.39034716,  5.64600691,  2.28386846],\n",
       "       [13.3914355 , 14.03306666, 14.68279559, 16.572395  , 21.11293188,\n",
       "        19.10732258,  9.58409149,  6.35672434,  7.56248851,  8.48692803],\n",
       "       [15.9835645 , 16.29875391, 16.98538384, 17.64962921, 19.74485432,\n",
       "        16.3488834 ,  5.59267336,  3.33157275,  8.17162079, 10.99771266]])"
      ]
     },
     "execution_count": 55,
     "metadata": {},
     "output_type": "execute_result"
    }
   ],
   "source": [
    "result_spline"
   ]
  },
  {
   "cell_type": "code",
   "execution_count": 56,
   "metadata": {},
   "outputs": [
    {
     "data": {
      "text/plain": [
       "array([[17.    , 18.5   , 21.5   , 18.25  ,  8.75  ,  5.5   ,  8.5   ,\n",
       "        10.25  , 10.75  , 12.5   ],\n",
       "       [18.75  , 18.6875, 18.5625, 15.    ,  8.    ,  6.    ,  9.    ,\n",
       "        11.0625, 12.1875, 14.25  ],\n",
       "       [22.25  , 19.0625, 12.6875,  8.5   ,  6.5   ,  7.    , 10.    ,\n",
       "        12.6875, 15.0625, 17.75  ],\n",
       "       [18.25  , 15.0625,  8.6875,  6.0625,  7.1875,  9.25  , 12.25  ,\n",
       "        15.25  , 18.25  , 19.375 ],\n",
       "       [ 6.75  ,  6.6875,  6.5625,  7.6875, 10.0625, 12.75  , 15.75  ,\n",
       "        18.75  , 21.75  , 19.125 ],\n",
       "       [ 2.75  ,  4.25  ,  7.25  , 10.25  , 13.25  , 15.9375, 18.3125,\n",
       "        19.4375, 19.3125, 15.125 ],\n",
       "       [ 6.25  ,  7.75  , 10.75  , 13.75  , 16.75  , 18.8125, 19.9375,\n",
       "        17.3125, 10.9375,  7.375 ],\n",
       "       [ 9.75  , 10.9375, 13.3125, 16.    , 19.    , 19.5   , 17.5   ,\n",
       "        13.3125,  6.9375,  5.25  ],\n",
       "       [13.25  , 13.8125, 14.9375, 17.    , 20.    , 18.    , 11.    ,\n",
       "         7.4375,  7.3125,  8.75  ],\n",
       "       [15.5   , 16.0625, 17.1875, 17.6875, 17.5625, 14.3125,  7.9375,\n",
       "         5.9375,  8.3125, 11.    ]])"
      ]
     },
     "execution_count": 56,
     "metadata": {},
     "output_type": "execute_result"
    }
   ],
   "source": [
    "result_linear"
   ]
  },
  {
   "cell_type": "code",
   "execution_count": 57,
   "metadata": {},
   "outputs": [
    {
     "data": {
      "text/plain": [
       "array([[17.   , 18.75 , 22.25 , 18.25 ,  6.75 ,  2.75 ,  6.25 ,  9.75 ,\n",
       "        13.25 , 15.5  ],\n",
       "       [18.5  , 17.125, 17.5  , 13.5  ,  8.25 ,  4.25 ,  7.75 , 10.625,\n",
       "        14.125, 16.375],\n",
       "       [21.5  , 17.   , 14.25 , 10.25 ,  8.125,  7.25 , 10.75 , 13.625,\n",
       "        14.625, 16.875],\n",
       "       [18.25 , 13.75 ,  7.25 ,  6.375,  8.   , 10.25 , 13.75 , 16.   ,\n",
       "        17.   , 16.125],\n",
       "       [ 8.75 ,  6.75 ,  7.75 ,  6.875,  9.75 , 13.25 , 16.75 , 19.   ,\n",
       "        20.   , 19.125],\n",
       "       [ 5.5  ,  6.   ,  7.   ,  9.25 , 12.75 , 16.25 , 19.125, 18.25 ,\n",
       "        16.75 , 12.75 ],\n",
       "       [ 8.5  ,  9.   , 10.   , 12.25 , 15.75 , 18.   , 20.25 , 16.25 ,\n",
       "        12.25 ,  6.375],\n",
       "       [10.25 , 11.375, 12.375, 15.25 , 18.75 , 21.   , 15.75 , 11.75 ,\n",
       "         9.   ,  6.25 ],\n",
       "       [10.75 , 11.875, 15.375, 18.25 , 21.75 , 20.875,  9.375,  8.5  ,\n",
       "         5.75 ,  8.   ],\n",
       "       [12.5  , 14.25 , 17.75 , 21.25 , 21.   , 17.   ,  5.5  ,  5.25 ,\n",
       "         8.75 , 11.   ]])"
      ]
     },
     "execution_count": 57,
     "metadata": {},
     "output_type": "execute_result"
    }
   ],
   "source": [
    "result_griddata"
   ]
  },
  {
   "cell_type": "code",
   "execution_count": 58,
   "metadata": {},
   "outputs": [
    {
     "name": "stdout",
     "output_type": "stream",
     "text": [
      "[[  0.          0.       ]\n",
      " [  0.1001001   0.1001001]\n",
      " [  0.2002002   0.2002002]\n",
      " ...\n",
      " [ 99.7997998  99.7997998]\n",
      " [ 99.8998999  99.8998999]\n",
      " [100.        100.       ]]\n"
     ]
    }
   ],
   "source": [
    "def func(x, y):\n",
    "    return x*(1-x)*np.cos(4*np.pi*x) * np.sin(4*np.pi*y**2)**2\n",
    "\n",
    "grid_x, grid_y = np.mgrid[0:1:100j, 0:1:200j]\n",
    "\n",
    "rng = np.random.default_rng()\n",
    "points = np.column_stack((np.linspace(0,100,1000),np.linspace(0,100,1000)))#rng.random((1000, 2))\n",
    "print(points)\n",
    "values = func(points[:,0], points[:,1])\n",
    "grid_z0 = scipy.interpolate.griddata(points, values, (grid_x, grid_y), method='nearest')"
   ]
  },
  {
   "cell_type": "code",
   "execution_count": 59,
   "metadata": {},
   "outputs": [
    {
     "data": {
      "text/plain": [
       "(100, 200)"
      ]
     },
     "execution_count": 59,
     "metadata": {},
     "output_type": "execute_result"
    }
   ],
   "source": [
    "grid_y.shape"
   ]
  },
  {
   "cell_type": "code",
   "execution_count": 60,
   "metadata": {},
   "outputs": [
    {
     "data": {
      "text/plain": [
       "(1000,)"
      ]
     },
     "execution_count": 60,
     "metadata": {},
     "output_type": "execute_result"
    }
   ],
   "source": [
    "values.shape"
   ]
  },
  {
   "cell_type": "code",
   "execution_count": 61,
   "metadata": {},
   "outputs": [
    {
     "name": "stdout",
     "output_type": "stream",
     "text": [
      "(10, 20)\n",
      "(100,)\n"
     ]
    },
    {
     "ename": "ValueError",
     "evalue": "different number of values and points",
     "output_type": "error",
     "traceback": [
      "\u001b[1;31m---------------------------------------------------------------------------\u001b[0m",
      "\u001b[1;31mValueError\u001b[0m                                Traceback (most recent call last)",
      "\u001b[1;32mC:\\Users\\PAKHUI~1\\AppData\\Local\\Temp/ipykernel_21496/2487660132.py\u001b[0m in \u001b[0;36m<module>\u001b[1;34m\u001b[0m\n\u001b[0;32m      3\u001b[0m \u001b[0mvalues\u001b[0m \u001b[1;33m=\u001b[0m \u001b[0mresult1\u001b[0m\u001b[1;33m.\u001b[0m\u001b[0mravel\u001b[0m\u001b[1;33m(\u001b[0m\u001b[1;33m)\u001b[0m\u001b[1;33m\u001b[0m\u001b[1;33m\u001b[0m\u001b[0m\n\u001b[0;32m      4\u001b[0m \u001b[0mprint\u001b[0m\u001b[1;33m(\u001b[0m\u001b[0mvalues\u001b[0m\u001b[1;33m.\u001b[0m\u001b[0mshape\u001b[0m\u001b[1;33m)\u001b[0m\u001b[1;33m\u001b[0m\u001b[1;33m\u001b[0m\u001b[0m\n\u001b[1;32m----> 5\u001b[1;33m \u001b[0mresult_griddata\u001b[0m \u001b[1;33m=\u001b[0m \u001b[0mscipy\u001b[0m\u001b[1;33m.\u001b[0m\u001b[0minterpolate\u001b[0m\u001b[1;33m.\u001b[0m\u001b[0mgriddata\u001b[0m\u001b[1;33m(\u001b[0m\u001b[0mpoints\u001b[0m\u001b[1;33m,\u001b[0m \u001b[0mvalues\u001b[0m\u001b[1;33m,\u001b[0m \u001b[1;33m(\u001b[0m\u001b[0mx\u001b[0m\u001b[1;33m,\u001b[0m \u001b[0my\u001b[0m\u001b[1;33m)\u001b[0m\u001b[1;33m,\u001b[0m \u001b[0mmethod\u001b[0m\u001b[1;33m=\u001b[0m\u001b[1;34m'linear'\u001b[0m\u001b[1;33m)\u001b[0m\u001b[1;33m\u001b[0m\u001b[1;33m\u001b[0m\u001b[0m\n\u001b[0m",
      "\u001b[1;32mc:\\Users\\PAKHUIYING\\anaconda3\\envs\\image_processing\\lib\\site-packages\\scipy\\interpolate\\ndgriddata.py\u001b[0m in \u001b[0;36mgriddata\u001b[1;34m(points, values, xi, method, fill_value, rescale)\u001b[0m\n\u001b[0;32m    259\u001b[0m     \u001b[1;32melif\u001b[0m \u001b[0mmethod\u001b[0m \u001b[1;33m==\u001b[0m \u001b[1;34m'linear'\u001b[0m\u001b[1;33m:\u001b[0m\u001b[1;33m\u001b[0m\u001b[1;33m\u001b[0m\u001b[0m\n\u001b[0;32m    260\u001b[0m         ip = LinearNDInterpolator(points, values, fill_value=fill_value,\n\u001b[1;32m--> 261\u001b[1;33m                                   rescale=rescale)\n\u001b[0m\u001b[0;32m    262\u001b[0m         \u001b[1;32mreturn\u001b[0m \u001b[0mip\u001b[0m\u001b[1;33m(\u001b[0m\u001b[0mxi\u001b[0m\u001b[1;33m)\u001b[0m\u001b[1;33m\u001b[0m\u001b[1;33m\u001b[0m\u001b[0m\n\u001b[0;32m    263\u001b[0m     \u001b[1;32melif\u001b[0m \u001b[0mmethod\u001b[0m \u001b[1;33m==\u001b[0m \u001b[1;34m'cubic'\u001b[0m \u001b[1;32mand\u001b[0m \u001b[0mndim\u001b[0m \u001b[1;33m==\u001b[0m \u001b[1;36m2\u001b[0m\u001b[1;33m:\u001b[0m\u001b[1;33m\u001b[0m\u001b[1;33m\u001b[0m\u001b[0m\n",
      "\u001b[1;32minterpnd.pyx\u001b[0m in \u001b[0;36mscipy.interpolate.interpnd.LinearNDInterpolator.__init__\u001b[1;34m()\u001b[0m\n",
      "\u001b[1;32minterpnd.pyx\u001b[0m in \u001b[0;36mscipy.interpolate.interpnd.NDInterpolatorBase.__init__\u001b[1;34m()\u001b[0m\n",
      "\u001b[1;32minterpnd.pyx\u001b[0m in \u001b[0;36mscipy.interpolate.interpnd._check_init_shape\u001b[1;34m()\u001b[0m\n",
      "\u001b[1;31mValueError\u001b[0m: different number of values and points"
     ]
    }
   ],
   "source": [
    "points = np.column_stack((x1,y1))\n",
    "print(points.shape)\n",
    "values = result1.ravel()\n",
    "print(values.shape)\n",
    "result_griddata = scipy.interpolate.griddata(points, values, (x, y), method='linear')\n"
   ]
  },
  {
   "cell_type": "code",
   "execution_count": null,
   "metadata": {},
   "outputs": [],
   "source": []
  }
 ],
 "metadata": {
  "kernelspec": {
   "display_name": "Python 3.7.11 ('image_processing')",
   "language": "python",
   "name": "python3"
  },
  "language_info": {
   "codemirror_mode": {
    "name": "ipython",
    "version": 3
   },
   "file_extension": ".py",
   "mimetype": "text/x-python",
   "name": "python",
   "nbconvert_exporter": "python",
   "pygments_lexer": "ipython3",
   "version": "3.7.11"
  },
  "orig_nbformat": 4,
  "vscode": {
   "interpreter": {
    "hash": "824ccbd0db9d92c4aa655aed039d0a81ef5cb790b435ea04aa20391982a69284"
   }
  }
 },
 "nbformat": 4,
 "nbformat_minor": 2
}
